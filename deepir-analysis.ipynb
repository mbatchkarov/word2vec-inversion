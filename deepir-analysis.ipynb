{
 "cells": [
  {
   "cell_type": "markdown",
   "metadata": {},
   "source": [
    "# Compare models qualitatively "
   ]
  },
  {
   "cell_type": "code",
   "execution_count": 1,
   "metadata": {
    "collapsed": true
   },
   "outputs": [],
   "source": [
    "import pickle\n",
    "from common import *\n",
    "%matplotlib inline\n",
    "import seaborn as sns\n",
    "import numpy as np\n",
    "from sklearn.metrics import accuracy_score\n",
    "import matplotlib.pylab as plt\n",
    "import pandas as pd"
   ]
  },
  {
   "cell_type": "code",
   "execution_count": 2,
   "metadata": {
    "collapsed": false
   },
   "outputs": [],
   "source": [
    "with open('wtv_models_yelp_only.pkl', 'rb') as infile:\n",
    "    yelp_models = pickle.load(infile)\n",
    "\n",
    "with open('wtv_models_cwiki_yelp.pkl', 'rb') as infile:\n",
    "    wiki_models = pickle.load(infile)"
   ]
  },
  {
   "cell_type": "code",
   "execution_count": 3,
   "metadata": {
    "collapsed": false
   },
   "outputs": [
    {
     "name": "stdout",
     "output_type": "stream",
     "text": [
      "[('pleasant', 0.6808018684387207), ('cute', 0.6550190448760986), ('friendly', 0.6248895525932312)]\n",
      "[('cool', 0.6738990545272827), ('neat', 0.6275345087051392), ('lovely', 0.6241207718849182)]\n",
      "[('neat', 0.6617211103439331), ('lovely', 0.6613628268241882), ('pleasant', 0.6314660310745239)]\n",
      "[('cool', 0.675835907459259), ('pleasant', 0.6456199884414673), ('neat', 0.6441613435745239)]\n",
      "[('cool', 0.7131777405738831), ('pleasant', 0.662418007850647), ('neat', 0.6618289351463318)]\n",
      "-------------\n",
      "[('neat', 0.7795519828796387), ('cute', 0.7674884796142578), ('friendly', 0.7574198842048645)]\n",
      "[('lovely', 0.7970020174980164), ('cool', 0.7913711667060852), ('cute', 0.7586115002632141)]\n",
      "[('cool', 0.7654863595962524), ('lovely', 0.7340822219848633), ('great', 0.7330889701843262)]\n",
      "[('cool', 0.7509998083114624), ('lovely', 0.7368682622909546), ('pleasant', 0.7041727304458618)]\n",
      "[('cool', 0.7659857273101807), ('pleasant', 0.7405916452407837), ('lovely', 0.7199037075042725)]\n"
     ]
    }
   ],
   "source": [
    "for m in yelp_models:\n",
    "    print(m.most_similar('nice')[:3])\n",
    "print('-------------')\n",
    "for m in wiki_models:\n",
    "    print(m.most_similar('nice')[:3])"
   ]
  },
  {
   "cell_type": "markdown",
   "metadata": {},
   "source": [
    "### Inversion of the distributed representations\n",
    "\n",
    "At this point, we have 5 different word2vec language representations.  Each 'model' has been trained conditional (i.e., limited to) text from a specific star rating.  We will apply Bayes rule to go from _p(text|stars)_ to _p(stars|text)_.\n",
    "\n",
    "For any new sentence we can obtain its _likelihood_ (lhd; actually, the composite likelihood approximation; see the paper) using the [score](https://radimrehurek.com/gensim/models/word2vec.html#gensim.models.word2vec.Word2Vec.score) function in the `word2vec` class.  We get the likelihood for each sentence in the first test review, then convert to a probability over star ratings. Every sentence in the review is evaluated separately and the final star rating of the review is an average vote of all the sentences. This is all in the following handy wrapper."
   ]
  },
  {
   "cell_type": "code",
   "execution_count": 4,
   "metadata": {
    "collapsed": true
   },
   "outputs": [],
   "source": [
    "\"\"\"\n",
    "docprob takes two lists\n",
    "* docs: a list of documents, each of which is a list of sentences\n",
    "* models: the candidate word2vec models (each potential class)\n",
    "\n",
    "it returns the array of class probabilities.  Everything is done in-memory.\n",
    "\"\"\"\n",
    "\n",
    "def docprob(docs, mods):\n",
    "    # score() takes a list [s] of sentences here; could also be a sentence generator\n",
    "    sentlist = [s for d in docs for s in d]\n",
    "    # the log likelihood of each sentence in this review under each w2v representation\n",
    "    llhd = np.array( [ m.score(sentlist, len(sentlist)) for m in mods ] )\n",
    "    # now exponentiate to get likelihoods, \n",
    "    lhd = np.exp(llhd - llhd.max(axis=0)) # subtract row max to avoid numeric overload\n",
    "    # normalize across models (stars) to get sentence-star probabilities\n",
    "    prob = pd.DataFrame( (lhd/lhd.sum(axis=0)).transpose() )\n",
    "    # and finally average the sentence probabilities to get the review probability\n",
    "    prob[\"doc\"] = [i for i,d in enumerate(docs) for s in d]\n",
    "    prob = prob.groupby(\"doc\").mean()\n",
    "    return prob\n"
   ]
  },
  {
   "cell_type": "markdown",
   "metadata": {},
   "source": [
    "#### Test set example\n",
    "\n",
    "As an example, we apply the inversion on the full test set.  "
   ]
  },
  {
   "cell_type": "code",
   "execution_count": 15,
   "metadata": {
    "collapsed": true
   },
   "outputs": [],
   "source": [
    "# read in the test set\n",
    "revtest = list(YelpReviews(\"test\"))\n",
    "X = [r['x'] for r in revtest]\n",
    "gold = np.array([r['y'] for r in revtest])"
   ]
  },
  {
   "cell_type": "code",
   "execution_count": 42,
   "metadata": {
    "collapsed": false
   },
   "outputs": [],
   "source": [
    "def evaluate(X, models):\n",
    "    gold = np.array([r['y'] for r in revtest])\n",
    "    probs = docprob(X, models)\n",
    "    probpos = pd.DataFrame({\"out-of-sample prob positive\":probs[[3, 4]].sum(axis=1), \n",
    "                            \"true stars\":gold})\n",
    "    probpos.boxplot(\"out-of-sample prob positive\",by=\"true stars\", figsize=(12,5));\n",
    "    \n",
    "    preds = probs.values.argmax(axis=1) + 1 # gold is 1..5, predictions are 0..4\n",
    "    print('5-way Accuracy', accuracy_score(preds, gold))\n",
    "    \n",
    "    # three-way classification\n",
    "    probs3 = np.vstack([probs.values[:, :2].sum(axis=1),\n",
    "                          probs.values[:, 2],\n",
    "                          probs.values[:, 3:].sum(axis=1)]).T\n",
    "    gold = np.array([r['y'] for r in revtest])\n",
    "    gold[gold<3] = 1\n",
    "    gold[gold==3] = 2\n",
    "    gold[gold>3] = 3\n",
    "    preds = probs3.argmax(axis=1) + 1 # gold is 1..5, predictions are 0..4\n",
    "    print('5-way Accuracy', accuracy_score(preds, gold))"
   ]
  },
  {
   "cell_type": "code",
   "execution_count": 43,
   "metadata": {
    "collapsed": false
   },
   "outputs": [
    {
     "name": "stdout",
     "output_type": "stream",
     "text": [
      "5-way Accuracy 0.570744032061\n",
      "5-way Accuracy 0.812859383168\n"
     ]
    },
    {
     "data": {
      "image/png": "[encoded data removed]",
      "text/plain": [
       "<matplotlib.figure.Figure at 0x10ad8f510>"
      ]
     },
     "metadata": {},
     "output_type": "display_data"
    }
   ],
   "source": [
    "probs = evaluate(X, yelp_models)"
   ]
  },
  {
   "cell_type": "code",
   "execution_count": 44,
   "metadata": {
    "collapsed": false
   },
   "outputs": [
    {
     "name": "stdout",
     "output_type": "stream",
     "text": [
      "5-way Accuracy 0.559635825057\n",
      "5-way Accuracy 0.802317476912\n"
     ]
    },
    {
     "data": {
      "image/png": "[encoded data removed]",
      "text/plain": [
       "<matplotlib.figure.Figure at 0x10ad8b190>"
      ]
     },
     "metadata": {},
     "output_type": "display_data"
    }
   ],
   "source": [
    "evaluate(X, wiki_models)"
   ]
  },
  {
   "cell_type": "code",
   "execution_count": null,
   "metadata": {
    "collapsed": true
   },
   "outputs": [],
   "source": []
  }
 ],
 "metadata": {
  "kernelspec": {
   "display_name": "Python 3",
   "language": "python",
   "name": "python3"
  },
  "language_info": {
   "codemirror_mode": {
    "name": "ipython",
    "version": 3
   },
   "file_extension": ".py",
   "mimetype": "text/x-python",
   "name": "python",
   "nbconvert_exporter": "python",
   "pygments_lexer": "ipython3",
   "version": "3.3.5"
  }
 },
 "nbformat": 4,
 "nbformat_minor": 0
}
